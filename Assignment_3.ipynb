{
 "cells": [
  {
   "cell_type": "markdown",
   "metadata": {
    "id": "qvBuSV0uPKH3"
   },
   "source": [
    "## Assignment 3\n",
    "##### Name: Nguyen Dinh Khanh Chi\n",
    "##### Student's number: EN-000557\n",
    "##### Date: 23-Feb-2023"
   ]
  },
  {
   "cell_type": "markdown",
   "metadata": {
    "id": "sV2o0XDyPgDl"
   },
   "source": [
    "**Exercise 1**"
   ]
  },
  {
   "cell_type": "code",
   "execution_count": 7,
   "metadata": {
    "colab": {
     "base_uri": "https://localhost:8080/"
    },
    "id": "rVZbRaRtPsyO",
    "outputId": "f2e7de9b-2a90-4397-ace3-082c2231e5bd"
   },
   "outputs": [
    {
     "data": {
      "text/plain": [
       "30"
      ]
     },
     "execution_count": 7,
     "metadata": {},
     "output_type": "execute_result"
    }
   ],
   "source": [
    "x = lambda num1,num2: num1*num2\n",
    "x(5,6)"
   ]
  },
  {
   "cell_type": "markdown",
   "metadata": {
    "id": "8t05FzPuQp6R"
   },
   "source": [
    "**Exercise 2**"
   ]
  },
  {
   "cell_type": "code",
   "execution_count": 8,
   "metadata": {
    "colab": {
     "base_uri": "https://localhost:8080/"
    },
    "id": "yzlHKHppQuJm",
    "outputId": "c8e7c9a0-36f2-41ad-cb60-358e0eff44cd"
   },
   "outputs": [
    {
     "data": {
      "text/plain": [
       "314.1592653589793"
      ]
     },
     "execution_count": 8,
     "metadata": {},
     "output_type": "execute_result"
    }
   ],
   "source": [
    "from math import pi\n",
    "def circle_area(radius):\n",
    "    return pi*(radius**2)  ## as A = pi*r^2\n",
    "circle_area(10)"
   ]
  },
  {
   "cell_type": "markdown",
   "metadata": {
    "id": "znNrxs4fUbnF"
   },
   "source": [
    "**Exercise 3**"
   ]
  },
  {
   "cell_type": "markdown",
   "metadata": {
    "id": "qSYOvC9_e4yz"
   },
   "source": [
    "*Option 1*"
   ]
  },
  {
   "cell_type": "code",
   "execution_count": 9,
   "metadata": {
    "colab": {
     "base_uri": "https://localhost:8080/"
    },
    "id": "_yBLpThLUhJL",
    "outputId": "8a3d14ca-71db-430b-85f9-7caf9d867108"
   },
   "outputs": [
    {
     "data": {
      "text/plain": [
       "0.4"
      ]
     },
     "execution_count": 9,
     "metadata": {},
     "output_type": "execute_result"
    }
   ],
   "source": [
    "def simple_cal(num1,num2,operation):\n",
    "  if operation == 'a':\n",
    "    return num1+num2\n",
    "  elif operation == 's':\n",
    "    return num1-num2\n",
    "  elif operation == 'm':\n",
    "    return num1*num2\n",
    "  elif operation == 'd':\n",
    "    return num1/num2\n",
    "simple_cal(2,5,'d')"
   ]
  },
  {
   "cell_type": "markdown",
   "metadata": {
    "id": "UEscIUz0fUWp"
   },
   "source": [
    "*Option 2*"
   ]
  },
  {
   "cell_type": "code",
   "execution_count": 10,
   "metadata": {
    "colab": {
     "base_uri": "https://localhost:8080/"
    },
    "id": "nnR4ixjUdCbE",
    "outputId": "14b5a88c-63f5-49cd-bb5d-f2e12be01849"
   },
   "outputs": [
    {
     "data": {
      "text/plain": [
       "0.4"
      ]
     },
     "execution_count": 10,
     "metadata": {},
     "output_type": "execute_result"
    }
   ],
   "source": [
    "operations = {\n",
    "    \"a\" : lambda num1,num2 : num1+num2,\n",
    "    \"s\" : lambda num1,num2 : num1-num2,\n",
    "    \"m\" : lambda num1,num2 : num1*num2,\n",
    "    \"d\" : lambda num1,num2 : num1/num2,\n",
    "    }\n",
    "def cal(num1,num2,operator):\n",
    "  return operations[operator](num1,num2)\n",
    "cal(2,5,\"d\")"
   ]
  },
  {
   "cell_type": "markdown",
   "metadata": {
    "id": "NuWuwzHBXglm"
   },
   "source": [
    "**Exercise 4**"
   ]
  },
  {
   "cell_type": "code",
   "execution_count": 11,
   "metadata": {
    "colab": {
     "base_uri": "https://localhost:8080/"
    },
    "id": "0R8U3jemXx-Y",
    "outputId": "87a36431-1083-471c-d79e-44446abff051"
   },
   "outputs": [
    {
     "data": {
      "text/plain": [
       "50"
      ]
     },
     "execution_count": 11,
     "metadata": {},
     "output_type": "execute_result"
    }
   ],
   "source": [
    "class Rectangle ():\n",
    "    def __init__(self, l, w):\n",
    "       self.length = l\n",
    "       self.width = w\n",
    "    def area(self):\n",
    "       return self.length*self.width\n",
    "r = Rectangle(5,10)\n",
    "r.area()"
   ]
  },
  {
   "cell_type": "markdown",
   "metadata": {
    "id": "gYKAXjPOfgJq"
   },
   "source": [
    "**Exercise 5**"
   ]
  },
  {
   "cell_type": "code",
   "execution_count": 12,
   "metadata": {
    "colab": {
     "base_uri": "https://localhost:8080/"
    },
    "id": "PB__d_YZfoDh",
    "outputId": "60e1722f-718c-4eb1-855d-24b1c7703505"
   },
   "outputs": [
    {
     "name": "stdout",
     "output_type": "stream",
     "text": [
      "The area is: \n",
      "    25\n",
      "This is a:  square\n"
     ]
    }
   ],
   "source": [
    "class Shape ():\n",
    "    def area(self):\n",
    "       return print(\"The area is: 0\")\n",
    "class Square (Shape):\n",
    "    def __init__(self, d, l):\n",
    "       self.description = d\n",
    "       self.length = l\n",
    "    def area(self):\n",
    "       return print('The area is: ', self.length**2, sep='\\n    ')\n",
    "    def describe(self):\n",
    "       return print('This is a: ', self.description)\n",
    "s = Square(\"square\",5)\n",
    "s.area()\n",
    "s.describe()"
   ]
  }
 ],
 "metadata": {
  "colab": {
   "provenance": []
  },
  "kernelspec": {
   "display_name": "Python 3 (ipykernel)",
   "language": "python",
   "name": "python3"
  },
  "language_info": {
   "codemirror_mode": {
    "name": "ipython",
    "version": 3
   },
   "file_extension": ".py",
   "mimetype": "text/x-python",
   "name": "python",
   "nbconvert_exporter": "python",
   "pygments_lexer": "ipython3",
   "version": "3.9.2"
  }
 },
 "nbformat": 4,
 "nbformat_minor": 1
}
