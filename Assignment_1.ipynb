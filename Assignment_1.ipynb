{
 "cells": [
  {
   "cell_type": "markdown",
   "id": "fca3f62b",
   "metadata": {},
   "source": [
    "## Assignment 1"
   ]
  },
  {
   "cell_type": "markdown",
   "id": "a8f657d4",
   "metadata": {},
   "source": [
    "### Date: 07 Feb 2023"
   ]
  },
  {
   "cell_type": "markdown",
   "id": "f4bef19a",
   "metadata": {},
   "source": [
    "#### Name: Nguyen Dinh Khanh Chi"
   ]
  },
  {
   "cell_type": "markdown",
   "id": "98588667",
   "metadata": {},
   "source": [
    "###### Most commonly used programming languagues:\n",
    "* Python\n",
    "* C\n",
    "* C++"
   ]
  },
  {
   "cell_type": "markdown",
   "id": "7031e10e",
   "metadata": {},
   "source": [
    "| Intermediate Devices | End Devices | Media |\n",
    "| --- | --- | --- |\n",
    "| Wireless router | Laptop | Wireless media |\n",
    "| LAN switch | Printer | LAN media |\n",
    "| Firewall appliance | IP phone | WAN media |"
   ]
  },
  {
   "cell_type": "code",
   "execution_count": 6,
   "id": "cbd73522",
   "metadata": {},
   "outputs": [
    {
     "name": "stdout",
     "output_type": "stream",
     "text": [
      "Nguyen Dinh Khanh Chi\n"
     ]
    }
   ],
   "source": [
    "print (\"Nguyen Dinh Khanh Chi\")"
   ]
  },
  {
   "cell_type": "markdown",
   "id": "4dab43a2",
   "metadata": {},
   "source": [
    "###### Please enter your username below:"
   ]
  },
  {
   "cell_type": "code",
   "execution_count": 7,
   "id": "b69bd782",
   "metadata": {},
   "outputs": [
    {
     "name": "stdout",
     "output_type": "stream",
     "text": [
      "Katie\n",
      "Hello, Katie!\n"
     ]
    }
   ],
   "source": [
    "name = input()\n",
    "print (\"Hello, \" + str(name) + \"!\") "
   ]
  },
  {
   "cell_type": "markdown",
   "id": "8ea9ae61",
   "metadata": {},
   "source": [
    "###### Enter 2 numbers which need to be sum up line by line, then the result will appear on the third line."
   ]
  },
  {
   "cell_type": "code",
   "execution_count": 8,
   "id": "8adeaf07",
   "metadata": {},
   "outputs": [
    {
     "name": "stdout",
     "output_type": "stream",
     "text": [
      "145\n",
      "75\n",
      "220\n"
     ]
    }
   ],
   "source": [
    "a = int(input())\n",
    "b = int(input())\n",
    "c = a + b\n",
    "print (c)"
   ]
  }
 ],
 "metadata": {
  "kernelspec": {
   "display_name": "Python 3 (ipykernel)",
   "language": "python",
   "name": "python3"
  },
  "language_info": {
   "codemirror_mode": {
    "name": "ipython",
    "version": 3
   },
   "file_extension": ".py",
   "mimetype": "text/x-python",
   "name": "python",
   "nbconvert_exporter": "python",
   "pygments_lexer": "ipython3",
   "version": "3.9.2"
  }
 },
 "nbformat": 4,
 "nbformat_minor": 5
}
