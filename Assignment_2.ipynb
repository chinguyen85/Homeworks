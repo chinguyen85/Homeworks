{
  "nbformat": 4,
  "nbformat_minor": 0,
  "metadata": {
    "colab": {
      "provenance": []
    },
    "kernelspec": {
      "name": "python3",
      "display_name": "Python 3"
    },
    "language_info": {
      "name": "python"
    }
  },
  "cells": [
    {
      "cell_type": "markdown",
      "source": [
        "## **Assignment 2**\n",
        "\n",
        "####***Date: 17 Feb 2022***\n",
        "\n",
        "####***Name: Nguyen Dinh Khanh Chi***\n",
        "\n",
        "####***Student's number: EN-000557***"
      ],
      "metadata": {
        "id": "WFE8ulgRJr5s"
      }
    },
    {
      "cell_type": "code",
      "execution_count": null,
      "metadata": {
        "id": "pWuH9lNGPSLf",
        "colab": {
          "base_uri": "https://localhost:8080/"
        },
        "outputId": "b848c83b-3ca2-40f8-ecee-1a28c30d0e34"
      },
      "outputs": [
        {
          "output_type": "stream",
          "name": "stdout",
          "text": [
            "The result of the calculation was: \n",
            "        149769\n"
          ]
        }
      ],
      "source": [
        "num_1 = 100\n",
        "num_2 = 29\n",
        "x = (num_1 + num_2)*3\n",
        "y = x * x\n",
        "print (\"The result of the calculation was: \", y, sep='\\n        ')"
      ]
    },
    {
      "cell_type": "code",
      "source": [
        "name = str(input(\"Name: \"))\n",
        "year = str(input(\"Year of birth: \"))\n",
        "age = int(input(\"Age: \"))\n",
        "exponent = int(age*age)\n",
        "print (\"Password: \", year[2:4], name[0:3], str(exponent), sep='')"
      ],
      "metadata": {
        "colab": {
          "base_uri": "https://localhost:8080/"
        },
        "id": "FpRAKju3kF8I",
        "outputId": "d53c2f82-d808-44e5-c097-78bfa4541dba"
      },
      "execution_count": null,
      "outputs": [
        {
          "output_type": "stream",
          "name": "stdout",
          "text": [
            "Name: John\n",
            "Year of birth: 1995\n",
            "Age: 26\n",
            "Password: 95Joh676\n"
          ]
        }
      ]
    },
    {
      "cell_type": "code",
      "source": [
        "num_1 = int(input(\"First number: \"))\n",
        "num_2 = int(input(\"Second number: \"))\n",
        "if num_1 % 2 == 0 and num_2 % 2 == 0:\n",
        "  print(\"Both numbers are even.\")\n",
        "elif num_1 % 2 == 0 or num_2 % 2 == 0:\n",
        "  print(\"One of the numbers is even.\")\n",
        "else:\n",
        "  print(\"Both numbers are odd.\")"
      ],
      "metadata": {
        "colab": {
          "base_uri": "https://localhost:8080/"
        },
        "id": "FKSHi1ylncp_",
        "outputId": "9ffb0213-3507-4db8-9a52-e76497f0753a"
      },
      "execution_count": null,
      "outputs": [
        {
          "output_type": "stream",
          "name": "stdout",
          "text": [
            "First number: 5\n",
            "Second number: 6\n",
            "One of the numbers is even.\n"
          ]
        }
      ]
    },
    {
      "cell_type": "code",
      "source": [
        "num = int(input(\"Give an integer: \"))\n",
        "result = sum(range(num+1)) - num\n",
        "print(\"The sum was: \",result)"
      ],
      "metadata": {
        "colab": {
          "base_uri": "https://localhost:8080/"
        },
        "id": "r7pbyVvj8kvq",
        "outputId": "7a4a7f9d-263b-498d-df4c-2aedb3eb30e2"
      },
      "execution_count": null,
      "outputs": [
        {
          "output_type": "stream",
          "name": "stdout",
          "text": [
            "Give an integer: 5\n",
            "The sum was:  10\n"
          ]
        }
      ]
    },
    {
      "cell_type": "code",
      "source": [
        "import random\n",
        "def play_game():\n",
        "  num_1 = random.randint(0,10)\n",
        "  print(\"It's a random integer number between 0 and 10.\")\n",
        "  count = 1\n",
        "  while True:\n",
        "    num_2 = int(input(\"Player: \"))\n",
        "    if num_2 < num_1:\n",
        "      print(\"Try a greater number.\")\n",
        "    elif num_2 > num_1:\n",
        "      print(\"Try a smaller number.\")\n",
        "    else:\n",
        "      print(\"That's right!\", \"Number of tries: \", str(count))\n",
        "    count+=1\n",
        "play_game()"
      ],
      "metadata": {
        "colab": {
          "base_uri": "https://localhost:8080/"
        },
        "id": "WYsEY9xg_R-O",
        "outputId": "b928e7c7-3af5-4b4d-fbe8-b79888b59604"
      },
      "execution_count": null,
      "outputs": [
        {
          "output_type": "stream",
          "name": "stdout",
          "text": [
            "It's a random integer number between 0 and 10.\n",
            "Player: 8\n",
            "Try a smaller number.\n",
            "Player: 5\n",
            "Try a smaller number.\n",
            "Player: 3\n",
            "Try a smaller number.\n",
            "Player: 1\n",
            "That's right! Number of tries:  4\n"
          ]
        }
      ]
    }
  ]
}